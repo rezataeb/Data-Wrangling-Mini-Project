{
 "cells": [
  {
   "cell_type": "code",
   "execution_count": null,
   "metadata": {
    "collapsed": true
   },
   "outputs": [],
   "source": [
    "#import essential packages \n",
    "\n",
    "import pandas as pd\n",
    "import numpy as np\n",
    "import json\n",
    "from pandas.io.json import json_normalize \n",
    "from collections import Counter "
   ]
  },
  {
   "cell_type": "code",
   "execution_count": null,
   "metadata": {
    "collapsed": true
   },
   "outputs": [],
   "source": [
    "#read data using Pandas as JSON file\n",
    "\n",
    "data= pd.read_json('data/world_bank_projects.json')"
   ]
  },
  {
   "cell_type": "code",
   "execution_count": null,
   "metadata": {},
   "outputs": [],
   "source": [
    "#check DataFrame to get some initial insight of it \n",
    "\n",
    "data.info()\n",
    "data.head()"
   ]
  },
  {
   "cell_type": "code",
   "execution_count": null,
   "metadata": {},
   "outputs": [],
   "source": [
    "#countries with the most projects -> looking into coloumn:'countryname'\n",
    "\n",
    "countries = data['countryname']\n",
    "top_countries = Counter(countries).most_common(10)\n",
    "print (top_countries)"
   ]
  },
  {
   "cell_type": "code",
   "execution_count": null,
   "metadata": {},
   "outputs": [],
   "source": [
    "#the most common project themes -> we need to load our raw data as json_string in order to use json_normalize \n",
    "\n",
    "data_string = json.load((open('data/world_bank_projects.json')))\n",
    "data_themes = json_normalize(data_string, 'mjtheme_namecode')\n",
    "\n",
    "#apply Counter on 'code' since not all the projects have 'name'\n",
    "top_themes = Counter(data_themes['code']).most_common(10)\n",
    "print (top_themes)"
   ]
  },
  {
   "cell_type": "code",
   "execution_count": null,
   "metadata": {},
   "outputs": [],
   "source": [
    "#Create a table of projects' codes and names without any missing value\n",
    "\n",
    "#firstreplace '' with Nan and sort DataFrame by code and name\n",
    "data_themes.replace(r'^\\s*$',np.nan,regex=True,inplace=True)\n",
    "data_themes = data_themes.sort_values(by=['code','name'])\n",
    "\n",
    "#forward fill the nan's from the rows where you do have a name\n",
    "data_themes['name'] = data_themes[['name']].fillna(method='ffill')\n",
    "new_top_themes = Counter(data_themes['name']).most_common(10)\n",
    "print(new_top_themes)"
   ]
  }
 ],
 "metadata": {
  "kernelspec": {
   "display_name": "Python 3",
   "language": "python",
   "name": "python3"
  },
  "language_info": {
   "codemirror_mode": {
    "name": "ipython",
    "version": 3
   },
   "file_extension": ".py",
   "mimetype": "text/x-python",
   "name": "python",
   "nbconvert_exporter": "python",
   "pygments_lexer": "ipython3",
   "version": "3.6.3"
  }
 },
 "nbformat": 4,
 "nbformat_minor": 2
}
